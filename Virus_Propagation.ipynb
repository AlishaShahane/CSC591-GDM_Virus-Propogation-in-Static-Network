{
 "cells": [
  {
   "cell_type": "markdown",
   "metadata": {},
   "source": [
    "# Virus Propagation"
   ]
  },
  {
   "cell_type": "code",
   "execution_count": 1,
   "metadata": {},
   "outputs": [],
   "source": [
    "# Required imports\n",
    "%matplotlib inline\n",
    "\n",
    "import math\n",
    "import random\n",
    "import matplotlib.pyplot as plt\n",
    "import networkx as nx\n",
    "import numpy as np\n",
    "import scipy.sparse\n",
    "from scipy.sparse import linalg as LA"
   ]
  },
  {
   "cell_type": "code",
   "execution_count": 2,
   "metadata": {},
   "outputs": [],
   "source": [
    "# Parameter Initializations\n",
    "beta1 = 0.20\n",
    "beta2 = 0.01\n",
    "\n",
    "delta1 = 0.70\n",
    "delta2 = 0.60\n",
    "\n",
    "global_k = 200"
   ]
  },
  {
   "cell_type": "markdown",
   "metadata": {},
   "source": [
    "## Q1 SIS Model"
   ]
  },
  {
   "cell_type": "code",
   "execution_count": 3,
   "metadata": {},
   "outputs": [],
   "source": [
    "# Function to read network file and create a networkx graph\n",
    "def create_graph():\n",
    "    path = './static.network'\n",
    "    fp = open(path, 'r')\n",
    "    # vertices, edges = [int(line) for line in fp.readline().split(' ')]\n",
    "    graph = nx.Graph()\n",
    "    next(fp)\n",
    "    for line in fp:\n",
    "        u, v = [int(x) for x in line.split(' ')]\n",
    "        graph.add_edge(u, v)\n",
    "    \n",
    "    return graph"
   ]
  },
  {
   "cell_type": "code",
   "execution_count": 4,
   "metadata": {},
   "outputs": [],
   "source": [
    "# Function to get maximum eigen value of a graph\n",
    "def get_max_eig(graph):\n",
    "    adj = nx.to_numpy_matrix(graph)\n",
    "    max_eig = max(LA.eigsh(adj, k=1, which='LM', return_eigenvectors=False, mode='normal'))\n",
    "    return np.real(max_eig)"
   ]
  },
  {
   "cell_type": "code",
   "execution_count": 5,
   "metadata": {},
   "outputs": [],
   "source": [
    "# Function to calculate strength of virus using formula: ((maximum eigen value) * beta) / (delta)\n",
    "def virus_strength(max_eig, beta, delta):\n",
    "    strength = max_eig * beta / delta\n",
    "    return strength\n",
    "    "
   ]
  },
  {
   "cell_type": "markdown",
   "metadata": {},
   "source": [
    "**a) Will the infection spread across the network (i.e., result on an epidemic), or will it die quickly**"
   ]
  },
  {
   "cell_type": "code",
   "execution_count": 6,
   "metadata": {},
   "outputs": [
    {
     "name": "stdout",
     "output_type": "stream",
     "text": [
      "Maximum Eigen Value of Graph :  43.85469576074462\n"
     ]
    }
   ],
   "source": [
    "g = create_graph()\n",
    "max_eig = get_max_eig(g)\n",
    "print 'Maximum Eigen Value of Graph : ', max_eig"
   ]
  },
  {
   "cell_type": "code",
   "execution_count": 7,
   "metadata": {},
   "outputs": [
    {
     "name": "stdout",
     "output_type": "stream",
     "text": [
      "Effective Virus Strength :  12.529913074498465\n"
     ]
    }
   ],
   "source": [
    "# Compute virus strength for beta 1 and delta 1\n",
    "s = virus_strength(max_eig, beta1, delta1)\n",
    "print 'Effective Virus Strength : ', s"
   ]
  },
  {
   "cell_type": "markdown",
   "metadata": {},
   "source": [
    "> Ans: Since the effective strength is 12.53 ie greater than 1, the virus will result in an epidemic for beta1 and delta1.\n"
   ]
  },
  {
   "cell_type": "code",
   "execution_count": 8,
   "metadata": {},
   "outputs": [
    {
     "name": "stdout",
     "output_type": "stream",
     "text": [
      "Effective Virus Strength :  0.7309115960124104\n"
     ]
    }
   ],
   "source": [
    "# Compute virus strength for beta 2 and delta 2\n",
    "s = virus_strength(max_eig, beta2, delta2)\n",
    "print 'Effective Virus Strength : ', s"
   ]
  },
  {
   "cell_type": "markdown",
   "metadata": {},
   "source": [
    "> Ans: Since the effective strength is 0.73 ie less than 1, the virus will not result in an epidemic for beta2 and delta2\n"
   ]
  },
  {
   "cell_type": "markdown",
   "metadata": {},
   "source": [
    "**b) Keeping δ fixed, analyze how the value of β affects the effective strength of the virus\n",
    "(suggestion: plot your results). What is the minimum transmission probability (β) that results in a\n",
    "network-wide epidemic?**\n",
    "\n"
   ]
  },
  {
   "cell_type": "code",
   "execution_count": 9,
   "metadata": {
    "scrolled": false
   },
   "outputs": [
    {
     "data": {
      "text/plain": [
       "Text(0.5,1,'Effect of Varying Beta on Virus Strength [Delta = 0.60]')"
      ]
     },
     "execution_count": 9,
     "metadata": {},
     "output_type": "execute_result"
    },
    {
     "data": {
      "image/png": "[encoded data removed]",
      "text/plain": [
       "<Figure size 1080x360 with 2 Axes>"
      ]
     },
     "metadata": {
      "needs_background": "light"
     },
     "output_type": "display_data"
    }
   ],
   "source": [
    "# Compute virus strength for varying beta and plot the results\n",
    "betas = np.arange(0.01, 1.00, 0.0025)\n",
    "strengths1 = []\n",
    "strengths2 = []\n",
    "for b in betas:\n",
    "    strengths1.append(virus_strength(max_eig, b, delta1))\n",
    "    strengths2.append(virus_strength(max_eig, b, delta2))\n",
    "\n",
    "\n",
    "fig = plt.figure(figsize=(15, 5))\n",
    "\n",
    "plt.subplot(1, 2, 1)\n",
    "plt.plot(betas, strengths1)\n",
    "plt.xlabel('Beta')\n",
    "plt.ylabel('Virus Strength')\n",
    "plt.title('Effect of Varying Beta on Virus Strength [Delta = 0.70]')\n",
    "\n",
    "plt.subplot(1, 2, 2)\n",
    "plt.plot(betas, strengths2)\n",
    "plt.xlabel('Beta')\n",
    "plt.ylabel('Virus Strength')\n",
    "plt.title('Effect of Varying Beta on Virus Strength [Delta = 0.60]')\n"
   ]
  },
  {
   "cell_type": "code",
   "execution_count": 10,
   "metadata": {},
   "outputs": [
    {
     "name": "stdout",
     "output_type": "stream",
     "text": [
      "0.0175\n"
     ]
    }
   ],
   "source": [
    "# For delta 1\n",
    "for b, s in zip(betas, strengths1):\n",
    "    if s >= 1.0:\n",
    "        min_beta1 = b\n",
    "        break\n",
    "print min_beta1"
   ]
  },
  {
   "cell_type": "code",
   "execution_count": 11,
   "metadata": {},
   "outputs": [
    {
     "name": "stdout",
     "output_type": "stream",
     "text": [
      "0.015000000000000001\n"
     ]
    }
   ],
   "source": [
    "# For delta 2\n",
    "for b, s in zip(betas, strengths2):\n",
    "    if s >= 1.0:\n",
    "        min_beta2 = b\n",
    "        break\n",
    "print min_beta2"
   ]
  },
  {
   "cell_type": "markdown",
   "metadata": {},
   "source": [
    "> Ans:\n",
    "> When δ1 = 0.70 minimum beta for which virus strength > 1 and therefore results in an epidemic is : 0.0175  \n",
    "When δ2 = 0.60 minimum beta for which virus strength > 1 and therefore results in an epidemic is : 0.015"
   ]
  },
  {
   "cell_type": "markdown",
   "metadata": {},
   "source": [
    "**c) Keeping β fixed, analyze how the value of δ affects the effective strength of the virus\n",
    "(suggestion: plot your results). What is the maximum healing probability (δ) that results in a\n",
    "network-wide epidemic?**\n",
    "\n"
   ]
  },
  {
   "cell_type": "code",
   "execution_count": 12,
   "metadata": {},
   "outputs": [
    {
     "data": {
      "text/plain": [
       "Text(0.5,1,'Effect of Varying Delta on Virus Strength [Beta = 0.01]')"
      ]
     },
     "execution_count": 12,
     "metadata": {},
     "output_type": "execute_result"
    },
    {
     "data": {
      "image/png": "[encoded data removed]",
      "text/plain": [
       "<Figure size 1080x360 with 2 Axes>"
      ]
     },
     "metadata": {
      "needs_background": "light"
     },
     "output_type": "display_data"
    }
   ],
   "source": [
    "# Compute virus strength for varying delta and plot the results\n",
    "deltas = np.arange(0.01, 1.00, 0.05)\n",
    "strengths1 = []\n",
    "strengths2 = []\n",
    "for d in deltas:\n",
    "    strengths1.append(virus_strength(max_eig, beta1, d))\n",
    "    strengths2.append(virus_strength(max_eig, beta2, d))\n",
    "\n",
    "fig = plt.figure(figsize=(15, 5))\n",
    "plt.subplot(1, 2, 1)\n",
    "plt.plot(deltas, strengths1)\n",
    "plt.xlabel('Delta')\n",
    "plt.ylabel('Virus Strength')\n",
    "plt.title('Effect of Varying Delta on Virus Strength [Beta = 0.20]')\n",
    "\n",
    "plt.subplot(1, 2, 2)\n",
    "plt.plot(deltas, strengths2)\n",
    "plt.xlabel('Delta')\n",
    "plt.ylabel('Virus Strength')\n",
    "plt.title('Effect of Varying Delta on Virus Strength [Beta = 0.01]')"
   ]
  },
  {
   "cell_type": "code",
   "execution_count": 13,
   "metadata": {},
   "outputs": [
    {
     "name": "stdout",
     "output_type": "stream",
     "text": [
      "0.9600000000000001\n"
     ]
    }
   ],
   "source": [
    "# For beta 1\n",
    "max_delta1 = -float('inf')\n",
    "for d, s in zip(deltas, strengths1):\n",
    "    if s >= 1.0:\n",
    "        max_delta1 = max(max_delta1, d)\n",
    "print max_delta1"
   ]
  },
  {
   "cell_type": "code",
   "execution_count": 14,
   "metadata": {},
   "outputs": [
    {
     "name": "stdout",
     "output_type": "stream",
     "text": [
      "0.41000000000000003\n"
     ]
    }
   ],
   "source": [
    "# For beta 2\n",
    "max_delta2 = -float('inf')\n",
    "for d, s in zip(deltas, strengths2):\n",
    "    if s >= 1.0:\n",
    "        max_delta2 = max(max_delta2, d)\n",
    "print max_delta2"
   ]
  },
  {
   "cell_type": "markdown",
   "metadata": {},
   "source": [
    "> Ans:\n",
    "> When β1 = 0.20 maximum delta for which virus strength > 1 and therefore results in an epidemic is : 0.96  \n",
    "When β2 = 0.01 maximum delta for which virus strength > 1 and therefore results in an epidemic is : 0.41"
   ]
  },
  {
   "cell_type": "markdown",
   "metadata": {},
   "source": [
    "## Q2 Simulation"
   ]
  },
  {
   "cell_type": "code",
   "execution_count": 15,
   "metadata": {},
   "outputs": [],
   "source": [
    "# Function to run one simulation\n",
    "def simulate(graph, beta, delta):\n",
    "    g = graph.copy()\n",
    "    n = g.number_of_nodes()\n",
    "    c = math.ceil(n/10)\n",
    "    \n",
    "    prev_infected = set(random.sample(range(n), int(c)))\n",
    "    infected_at_t = [len(prev_infected)]\n",
    "    \n",
    "    for _ in range(100):\n",
    "        new_infected = set()\n",
    "        for node in prev_infected:\n",
    "            nbrs = list(g.neighbors(node))\n",
    "            x = int(beta*len(nbrs))\n",
    "            curr_infected = random.sample(nbrs, x)\n",
    "            new_infected.update(curr_infected)\n",
    "        \n",
    "        x = int(math.ceil(delta * len(prev_infected)))\n",
    "        healed = set(random.sample(prev_infected, x))\n",
    "        prev_infected.update(new_infected)\n",
    "        \n",
    "        prev_infected -= healed\n",
    "        infected_at_t.append(len(prev_infected))\n",
    "    \n",
    "    return infected_at_t\n",
    "                    "
   ]
  },
  {
   "cell_type": "code",
   "execution_count": 16,
   "metadata": {},
   "outputs": [],
   "source": [
    "# Function to run the required number of sumilations for specified parameters and plot results\n",
    "def run(graph, beta, delta, policy='None', k=global_k):\n",
    "    \n",
    "    print '\\nRunning Virus Propagation Simulation '\n",
    "    print '\\nPARAMETERS : β = ', beta, '\\tδ = ', delta, '\\tk = ', k, '\\tImmunization Policy = ', policy, '\\tt = 100'\n",
    "    \n",
    "    if policy == 'a':\n",
    "        g = policy_a(graph, k)\n",
    "    elif policy == 'b':\n",
    "        g = policy_b(graph, k)\n",
    "    elif policy == 'c':\n",
    "        g = policy_c(graph, k)\n",
    "    elif policy == 'd':\n",
    "        g = policy_d(graph, k)\n",
    "    else:\n",
    "        g = graph\n",
    "    \n",
    "    \n",
    "    new_max_eig = get_max_eig(g)\n",
    "    print '\\nMaximum Eigen Value of Graph : ', new_max_eig\n",
    "    strength = virus_strength(new_max_eig, beta, delta)\n",
    "    print '\\nEffective Virus Strength : ', strength, '\\n'\n",
    "    \n",
    "    \n",
    "    simulation_results = []\n",
    "    avg = []\n",
    "    for idx in range(10):\n",
    "        print 'Simulation ', idx\n",
    "        res = simulate(g, beta, delta)\n",
    "        simulation_results.append(res)\n",
    "\n",
    "    for i in range(100):\n",
    "        avg.append(np.mean([simulation_results[j][i] for j in range(10)]))\n",
    "\n",
    "    print '\\nAverage Number of Nodes Initially Infected : ', avg[0]\n",
    "    print '\\nAverage Number of Nodes Finally Infected : ', avg[-1]\n",
    "\n",
    "    if avg[0] <= avg[-1]:\n",
    "        print '\\nRESULT : Virus has caused an epidemic'\n",
    "    else:\n",
    "        print '\\nRESULT : Virus epidemic was prevented'\n",
    "\n",
    "    \n",
    "    f = plt.figure(figsize=(7,5))\n",
    "    plt.plot(avg)\n",
    "    plt.xlabel('Time')\n",
    "    plt.ylabel('Number of Infected Nodes')\n",
    "    plt.show()\n",
    "    \n",
    "    \n",
    "    return strength\n",
    "    "
   ]
  },
  {
   "cell_type": "code",
   "execution_count": 17,
   "metadata": {},
   "outputs": [
    {
     "name": "stdout",
     "output_type": "stream",
     "text": [
      "\n",
      "Running Virus Propagation Simulation \n",
      "\n",
      "PARAMETERS : β =  0.2 \tδ =  0.7 \tk =  200 \tImmunization Policy =  None \tt = 100\n",
      "\n",
      "Maximum Eigen Value of Graph :  43.854695760744605\n",
      "\n",
      "Effective Virus Strength :  12.52991307449846 \n",
      "\n",
      "Simulation  0\n",
      "Simulation  1\n",
      "Simulation  2\n",
      "Simulation  3\n",
      "Simulation  4\n",
      "Simulation  5\n",
      "Simulation  6\n",
      "Simulation  7\n",
      "Simulation  8\n",
      "Simulation  9\n",
      "\n",
      "Average Number of Nodes Initially Infected :  571.0\n",
      "\n",
      "Average Number of Nodes Finally Infected :  973.4\n",
      "\n",
      "RESULT : Virus has caused an epidemic\n"
     ]
    },
    {
     "data": {
      "image/png": "[encoded data removed]",
      "text/plain": [
       "<Figure size 504x360 with 1 Axes>"
      ]
     },
     "metadata": {
      "needs_background": "light"
     },
     "output_type": "display_data"
    }
   ],
   "source": [
    "# Run simulation for beta 1, delta 1\n",
    "g = create_graph()\n",
    "s1 = run(g, beta1, delta1)"
   ]
  },
  {
   "cell_type": "markdown",
   "metadata": {},
   "source": [
    "**The virus spread throughout the network resulting in an epidemic, which is the same we expected as in 1 a.**"
   ]
  },
  {
   "cell_type": "code",
   "execution_count": 18,
   "metadata": {},
   "outputs": [
    {
     "name": "stdout",
     "output_type": "stream",
     "text": [
      "\n",
      "Running Virus Propagation Simulation \n",
      "\n",
      "PARAMETERS : β =  0.01 \tδ =  0.6 \tk =  200 \tImmunization Policy =  None \tt = 100\n",
      "\n",
      "Maximum Eigen Value of Graph :  43.85469576074463\n",
      "\n",
      "Effective Virus Strength :  0.7309115960124106 \n",
      "\n",
      "Simulation  0\n",
      "Simulation  1\n",
      "Simulation  2\n",
      "Simulation  3\n",
      "Simulation  4\n",
      "Simulation  5\n",
      "Simulation  6\n",
      "Simulation  7\n",
      "Simulation  8\n",
      "Simulation  9\n",
      "\n",
      "Average Number of Nodes Initially Infected :  571.0\n",
      "\n",
      "Average Number of Nodes Finally Infected :  0.0\n",
      "\n",
      "RESULT : Virus epidemic was prevented\n"
     ]
    },
    {
     "data": {
      "image/png": "[encoded data removed]",
      "text/plain": [
       "<Figure size 504x360 with 1 Axes>"
      ]
     },
     "metadata": {
      "needs_background": "light"
     },
     "output_type": "display_data"
    }
   ],
   "source": [
    "# Run simulation for beta 2, delta 2\n",
    "g = create_graph()\n",
    "s2 = run(g, beta2, delta2)"
   ]
  },
  {
   "cell_type": "markdown",
   "metadata": {},
   "source": [
    "**The infection in the network quickly died out, which is the same we expected as in 1 d.**"
   ]
  },
  {
   "cell_type": "markdown",
   "metadata": {},
   "source": [
    "## Q3 Immunization"
   ]
  },
  {
   "cell_type": "markdown",
   "metadata": {},
   "source": [
    "### a) Optimal Immunization Policy \n",
    "\n",
    "> The most optimal immunization policy is immunizing the k nodes whose removal causes largest drop in highest eigen value of the graph (λ1). However, this would require calculating the λ1 drop for each possible subset of k nodes, resulting in a time complexity of O(n^k). This would be computationally infeasible.   "
   ]
  },
  {
   "cell_type": "code",
   "execution_count": 19,
   "metadata": {},
   "outputs": [],
   "source": [
    "def policy_a(graph_a, k):\n",
    "    dels = random.sample(range(graph_a.number_of_nodes()), k)\n",
    "    graph_a.remove_nodes_from(dels)\n",
    "    graph_a = nx.convert_node_labels_to_integers(graph_a)\n",
    "    return graph_a"
   ]
  },
  {
   "cell_type": "code",
   "execution_count": 20,
   "metadata": {},
   "outputs": [],
   "source": [
    "def policy_b(graph_b, k):\n",
    "    d = nx.degree(graph_b)\n",
    "    dels = [a for a, b in sorted(list(d), key=lambda x:x[1], reverse=True)]\n",
    "    graph_b.remove_nodes_from(dels[:k])\n",
    "    graph_b = nx.convert_node_labels_to_integers(graph_b)\n",
    "    return graph_b"
   ]
  },
  {
   "cell_type": "code",
   "execution_count": 21,
   "metadata": {},
   "outputs": [],
   "source": [
    "def policy_c(graph_c, k):\n",
    "    for i in range(k):\n",
    "        d = nx.degree(graph_c)\n",
    "        dels = max(list(d), key=lambda x:x[1])[0]\n",
    "        graph_c.remove_node(dels)\n",
    "    graph_c = nx.convert_node_labels_to_integers(graph_c)\n",
    "    return graph_c\n",
    "        "
   ]
  },
  {
   "cell_type": "code",
   "execution_count": 22,
   "metadata": {},
   "outputs": [],
   "source": [
    "def policy_d(graph_d, k):\n",
    "    n = graph_d.number_of_nodes()\n",
    "    adj = nx.to_numpy_matrix(graph_d)\n",
    "    val, vec = LA.eigsh(adj, k=1, which='LM', return_eigenvectors=True, mode='normal')\n",
    "    vec_list = [(u, abs(v)) for u, v in enumerate(vec)]\n",
    "    vec_list.sort(key=lambda x:x[1], reverse=True)\n",
    "    dels = [vec_list[i][0] for i in range(k)]\n",
    "    graph_d.remove_nodes_from(dels)\n",
    "    graph_d = nx.convert_node_labels_to_integers(graph_d)\n",
    "    return graph_d"
   ]
  },
  {
   "cell_type": "code",
   "execution_count": 23,
   "metadata": {},
   "outputs": [],
   "source": [
    "# Function to get vaccine analysis for given parameters and policy\n",
    "def vaccine_analysis(graph_, beta, delta, k_vals, policy):\n",
    "    strengths = []\n",
    "    graph = graph_.copy()\n",
    "    \n",
    "    print '\\n----------------------------------------------------\\n'\n",
    "    print 'Running Vaccine Analysis for Policy ', policy.upper()\n",
    "    \n",
    "    if policy == 'a':\n",
    "        for k in k_vals:\n",
    "            print 'k: ', k,\n",
    "            new_graph = policy_a(graph, k)\n",
    "            max_eig = get_max_eig(new_graph)\n",
    "            s = virus_strength(max_eig, beta, delta)\n",
    "            strengths.append(s)\n",
    "            print '\\tstrength : ', s \n",
    "            \n",
    "    elif policy == 'b':\n",
    "        for k in k_vals:\n",
    "            print 'k: ', k,\n",
    "            new_graph = policy_b(graph, k)\n",
    "            max_eig = get_max_eig(new_graph)\n",
    "            s = virus_strength(max_eig, beta, delta)\n",
    "            strengths.append(s)\n",
    "            print '\\tstrength : ', s \n",
    "            \n",
    "    elif policy == 'c':\n",
    "        for k in k_vals:\n",
    "            print 'k: ', k,\n",
    "            new_graph = policy_c(graph, k)\n",
    "            max_eig = get_max_eig(new_graph)\n",
    "            s = virus_strength(max_eig, beta, delta)\n",
    "            strengths.append(s)\n",
    "            print '\\tstrength : ', s \n",
    "            \n",
    "    elif policy == 'd':\n",
    "        for k in k_vals:\n",
    "            print 'k: ', k,\n",
    "            new_graph = policy_d(graph, k)\n",
    "            max_eig = get_max_eig(new_graph)\n",
    "            s = virus_strength(max_eig, beta, delta)\n",
    "            strengths.append(s)\n",
    "            print '\\tstrength : ', s \n",
    "            \n",
    "    else:\n",
    "        new_graph = graph\n",
    "        for k in k_vals:\n",
    "            print 'k: ', k,\n",
    "            max_eig = get_max_eig(new_graph)\n",
    "            s = virus_strength(max_eig, beta, delta)\n",
    "            strengths.append(s)\n",
    "            print '\\tstrength : ', s \n",
    "        \n",
    "    f = plt.figure(figsize=(7,5))\n",
    "    plt.plot(k_vals, strengths)\n",
    "    plt.xlabel('Number of Vaccines (k)')\n",
    "    plt.ylabel('Virus Strength')\n",
    "    \n",
    "    return strengths    "
   ]
  },
  {
   "cell_type": "markdown",
   "metadata": {},
   "source": [
    "### Policy A\n",
    "\n",
    "#### b)\n",
    "**Intuition -**  \n",
    "This immunization policy randomly selects k nodes. The only intuition here is that if we run it several times, it will succeed in containing the epidemic at least few times.  \n",
    "\n",
    "#### c)\n",
    "**Pseudocode -**  \n",
    "` procedure policy_a(graph, k):\n",
    "    n <- get_nodes(graph)\n",
    "    immunize_nodes <- choose_random(n, k)\n",
    "    remove_from_graph(immunize_nodes)\n",
    "`      \n",
    "\n",
    "\n",
    "**Time Complexity -**  \n",
    "O(k) for selecting and removing k nodes; O(kn²) for updating adjacency matrix. Therefore time complexity is **O(kn²).**  \n",
    "\n",
    "#### d)\n",
    "**Effective Strength -**  \n",
    "The effective strength of the virus is 12.39  \n",
    "**Result -**  \n",
    "The virus results in an epidemic.  \n",
    "#### e)\n",
    "**Minimum number of vaccines necessary to prevent a network-wide epidemic -**   \n",
    "This number is very large. The policy is unable to prevent an epidemic even when the number of vaccines is as high as 300, the virus strength is around 9.   \n",
    "\n",
    "#### f)\n",
    "**Do the results of the simulation agree with your conclusions in (3d) -**  \n",
    "The simulation plot shows that the virus always persists and results in an epidemic, which is consistent with the result in 3d."
   ]
  },
  {
   "cell_type": "code",
   "execution_count": 24,
   "metadata": {
    "scrolled": false
   },
   "outputs": [
    {
     "name": "stdout",
     "output_type": "stream",
     "text": [
      "\n",
      "Running Virus Propagation Simulation \n",
      "\n",
      "PARAMETERS : β =  0.2 \tδ =  0.7 \tk =  200 \tImmunization Policy =  a \tt = 100\n",
      "\n",
      "Maximum Eigen Value of Graph :  43.12908914672423\n",
      "\n",
      "Effective Virus Strength :  12.322596899064067 \n",
      "\n",
      "Simulation  0\n",
      "Simulation  1\n",
      "Simulation  2\n",
      "Simulation  3\n",
      "Simulation  4\n",
      "Simulation  5\n",
      "Simulation  6\n",
      "Simulation  7\n",
      "Simulation  8\n",
      "Simulation  9\n",
      "\n",
      "Average Number of Nodes Initially Infected :  551.0\n",
      "\n",
      "Average Number of Nodes Finally Infected :  896.5\n",
      "\n",
      "RESULT : Virus has caused an epidemic\n"
     ]
    },
    {
     "data": {
      "image/png": "[encoded data removed]",
      "text/plain": [
       "<Figure size 504x360 with 1 Axes>"
      ]
     },
     "metadata": {
      "needs_background": "light"
     },
     "output_type": "display_data"
    },
    {
     "name": "stdout",
     "output_type": "stream",
     "text": [
      "\n",
      "----------------------------------------------------\n",
      "\n",
      "Running Vaccine Analysis for Policy  A\n",
      "k:  200 \tstrength :  12.119374523582973\n",
      "k:  210 \tstrength :  11.857131666276068\n",
      "k:  220 \tstrength :  11.616223359759367\n",
      "k:  230 \tstrength :  11.278738230203858\n",
      "k:  240 \tstrength :  11.072454927971515\n",
      "k:  250 \tstrength :  10.826518252026528\n",
      "k:  260 \tstrength :  10.068194954490863\n",
      "k:  270 \tstrength :  9.787046269587014\n",
      "k:  280 \tstrength :  9.551430571492817\n",
      "k:  290 \tstrength :  9.382249979179672\n"
     ]
    },
    {
     "data": {
      "image/png": "[encoded data removed]",
      "text/plain": [
       "<Figure size 504x360 with 1 Axes>"
      ]
     },
     "metadata": {
      "needs_background": "light"
     },
     "output_type": "display_data"
    }
   ],
   "source": [
    "g = create_graph()\n",
    "s1a = run(g, beta1, delta1, 'a')\n",
    "k_vals = range(200, 300, 10)\n",
    "strengths = vaccine_analysis(g, beta1, delta1, k_vals, 'a')"
   ]
  },
  {
   "cell_type": "markdown",
   "metadata": {},
   "source": [
    "### Policy B\n",
    "\n",
    "#### b)\n",
    "**Intuition -**   \n",
    "This immunization policy selects the k highest degree nodes to immunize. The intuition here is that the nodes with higher degree are connected to maximum nodes and have higher chance of spreading the infection so immunizing these nodes should help contain the epidemic.\n",
    "\n",
    "#### c)\n",
    "**Pseudocode -**  \n",
    "` procedure policy_a(graph, k):\n",
    "    n <- get_nodes(graph)\n",
    "    degree <- get_degrees(graph)\n",
    "    sorted_nodes <- sort(degrees)\n",
    "    immunize_nodes <- sorted_nodes(1:k)\n",
    "    remove_from_graph(immunize_nodes)\n",
    "`      \n",
    "\n",
    "\n",
    "**Time Complexity -**  \n",
    "O(n²) for calculatig degree matrix; O(nlogn) for sorting degrees; O(kn²) for updating adjacency matrix. Therefore time complexity is **O(kn²).**  \n",
    "\n",
    "#### d)\n",
    "**Effective Strength -**  \n",
    "The effective strength of the virus is 1.08  \n",
    "**Result -**  \n",
    "The epidemic was prevented.  \n",
    "#### e)\n",
    "**Minimum number of vaccines necessary to prevent a network-wide epidemic -**   \n",
    "Around 240 vacciness are sufficient to prevent the epidemic.   \n",
    "\n",
    "#### f)\n",
    "**Do the results of the simulation agree with your conclusions in (3d) -**  \n",
    "The simulation plot shows that the epidemic is contained, which is consistent with the result in 3d."
   ]
  },
  {
   "cell_type": "code",
   "execution_count": 25,
   "metadata": {},
   "outputs": [
    {
     "name": "stdout",
     "output_type": "stream",
     "text": [
      "\n",
      "Running Virus Propagation Simulation \n",
      "\n",
      "PARAMETERS : β =  0.2 \tδ =  0.7 \tk =  200 \tImmunization Policy =  b \tt = 100\n",
      "\n",
      "Maximum Eigen Value of Graph :  3.780964180823328\n",
      "\n",
      "Effective Virus Strength :  1.0802754802352366 \n",
      "\n",
      "Simulation  0\n",
      "Simulation  1\n",
      "Simulation  2\n",
      "Simulation  3\n",
      "Simulation  4\n",
      "Simulation  5\n",
      "Simulation  6\n",
      "Simulation  7\n",
      "Simulation  8\n",
      "Simulation  9\n",
      "\n",
      "Average Number of Nodes Initially Infected :  551.0\n",
      "\n",
      "Average Number of Nodes Finally Infected :  0.0\n",
      "\n",
      "RESULT : Virus epidemic was prevented\n"
     ]
    },
    {
     "data": {
      "image/png": "[encoded data removed]",
      "text/plain": [
       "<Figure size 504x360 with 1 Axes>"
      ]
     },
     "metadata": {
      "needs_background": "light"
     },
     "output_type": "display_data"
    },
    {
     "name": "stdout",
     "output_type": "stream",
     "text": [
      "\n",
      "----------------------------------------------------\n",
      "\n",
      "Running Vaccine Analysis for Policy  B\n",
      "k:  200 \tstrength :  0.6807742485388755\n",
      "k:  210 \tstrength :  0.46229542535711354\n",
      "k:  220 \tstrength :  -0.28571428571428625\n",
      "k:  230 \tstrength :  0.285714285714286\n",
      "k:  240 \tstrength :  0.0\n",
      "k:  250 \tstrength :  0.0\n",
      "k:  260 \tstrength :  0.0\n",
      "k:  270 \tstrength :  0.0\n",
      "k:  280 \tstrength :  0.0\n",
      "k:  290 \tstrength :  0.0\n"
     ]
    },
    {
     "data": {
      "image/png": "[encoded data removed]",
      "text/plain": [
       "<Figure size 504x360 with 1 Axes>"
      ]
     },
     "metadata": {
      "needs_background": "light"
     },
     "output_type": "display_data"
    }
   ],
   "source": [
    "g = create_graph()\n",
    "s1b = run(g, beta1, delta1, 'b')\n",
    "k_vals = range(200, 300, 10)\n",
    "strengths = vaccine_analysis(g, beta1, delta1, k_vals, 'b')"
   ]
  },
  {
   "cell_type": "markdown",
   "metadata": {},
   "source": [
    "### Policy C\n",
    "\n",
    "#### b)\n",
    "**Intuition -**   \n",
    "This immunization policy is a modification of policy B. Here too we select the k highest degree nodes to immunize. But the change is that we iteratively remove the highest degree node and re-calculate the adjacency matrix after each removal. This is repeated k times. The intuition here is that each removal results in changes to the graph so it is necessary to remove them one at a time.\n",
    "\n",
    "\n",
    "#### c)\n",
    "**Pseudocode -**  \n",
    "``` procedure: policy_a(graph, k):\n",
    "        for i : 1 -> k times:\n",
    "            n <- get_nodes(graph)\n",
    "            degree <- get_degrees(graph)\n",
    "            sorted_nodes <- sort(degrees)\n",
    "            immunize_node <- sorted_nodes[0] # highest degree node\n",
    "            remove_from_graph(immunize_node)\n",
    "        end for\n",
    "```    \n",
    "\n",
    "\n",
    "**Time Complexity -**  \n",
    "O(kn²) for calculatig degree matrix; O(knlogn) for sorting degrees; O(k²n²) for updating adjacency matrix. Therefore time complexity is **O(k²n²).**  \n",
    "\n",
    "#### d)\n",
    "**Effective Strength -**  \n",
    "The effective strength of the virus is 1.08  \n",
    "**Result -**  \n",
    "The epidemic was prevented.  \n",
    "#### e)\n",
    "**Minimum number of vaccines necessary to prevent a network-wide epidemic -**   \n",
    "Around 190 vacciness are sufficient to prevent the epidemic.   \n",
    "\n",
    "#### f)\n",
    "**Do the results of the simulation agree with your conclusions in (3d) -**  \n",
    "The simulation plot shows that the epidemic is contained, which is consistent with the result in 3d."
   ]
  },
  {
   "cell_type": "code",
   "execution_count": 26,
   "metadata": {
    "scrolled": false
   },
   "outputs": [
    {
     "name": "stdout",
     "output_type": "stream",
     "text": [
      "\n",
      "Running Virus Propagation Simulation \n",
      "\n",
      "PARAMETERS : β =  0.2 \tδ =  0.7 \tk =  200 \tImmunization Policy =  c \tt = 100\n",
      "\n",
      "Maximum Eigen Value of Graph :  3.795821888317992\n",
      "\n",
      "Effective Virus Strength :  1.0845205395194264 \n",
      "\n",
      "Simulation  0\n",
      "Simulation  1\n",
      "Simulation  2\n",
      "Simulation  3\n",
      "Simulation  4\n",
      "Simulation  5\n",
      "Simulation  6\n",
      "Simulation  7\n",
      "Simulation  8\n",
      "Simulation  9\n",
      "\n",
      "Average Number of Nodes Initially Infected :  551.0\n",
      "\n",
      "Average Number of Nodes Finally Infected :  0.0\n",
      "\n",
      "RESULT : Virus epidemic was prevented\n"
     ]
    },
    {
     "data": {
      "image/png": "[encoded data removed]",
      "text/plain": [
       "<Figure size 504x360 with 1 Axes>"
      ]
     },
     "metadata": {
      "needs_background": "light"
     },
     "output_type": "display_data"
    },
    {
     "name": "stdout",
     "output_type": "stream",
     "text": [
      "\n",
      "----------------------------------------------------\n",
      "\n",
      "Running Vaccine Analysis for Policy  C\n",
      "k:  150 \tstrength :  0.6826780860279176\n",
      "k:  160 \tstrength :  -0.5148393530870969\n",
      "k:  170 \tstrength :  -0.2857142857142861\n",
      "k:  180 \tstrength :  0.28571428571428614\n",
      "k:  190 \tstrength :  0.0\n",
      "k:  200 \tstrength :  0.0\n",
      "k:  210 \tstrength :  0.0\n",
      "k:  220 \tstrength :  0.0\n",
      "k:  230 \tstrength :  0.0\n",
      "k:  240 \tstrength :  0.0\n",
      "k:  250 \tstrength :  0.0\n",
      "k:  260 \tstrength :  0.0\n",
      "k:  270 \tstrength :  0.0\n",
      "k:  280 \tstrength :  0.0\n",
      "k:  290 \tstrength :  0.0\n"
     ]
    },
    {
     "data": {
      "image/png": "[encoded data removed]",
      "text/plain": [
       "<Figure size 504x360 with 1 Axes>"
      ]
     },
     "metadata": {
      "needs_background": "light"
     },
     "output_type": "display_data"
    }
   ],
   "source": [
    "g = create_graph()\n",
    "s1c = run(g, beta1, delta1, 'c')\n",
    "k_vals = range(150, 300, 10)\n",
    "strengths = vaccine_analysis(g, beta1, delta1, k_vals, 'c')"
   ]
  },
  {
   "cell_type": "markdown",
   "metadata": {},
   "source": [
    "### Policy D\n",
    "\n",
    "#### b)\n",
    "**Intuition -**   \n",
    "This immunization policy selects k nodes corresponding to the largest values in the eigen vector of the highest eigen value to immunize. The intuition here is that removing these nodes will result in decrease of largest eigen value and therefore cause decrease in virus strength.\n",
    "\n",
    "\n",
    "#### c)\n",
    "**Pseudocode -**  \n",
    "`procedure: policy_a(graph, k):\n",
    "        n <- get_nodes(graph)\n",
    "        eigen_val, eigen_vec <- get_top_eigen_value_vector(graph)\n",
    "        sorted_node_index <- sort(absolute_values(eigen_vec))\n",
    "        immunize_node <- sorted_nodes[1:k]\n",
    "        remove_from_graph(immunize_node)\n",
    "`    \n",
    "\n",
    "\n",
    "**Time Complexity -**  \n",
    "O(n²) for calculatig eigen value/vector; O(nlogn) for sorting eigen vector; O(kn²) for removing nodes and  updating adjacency matrix. Therefore time complexity is **O(kn²).**  \n",
    "\n",
    "#### d)\n",
    "**Effective Strength -**  \n",
    "The effective strength of the virus is 3.07  \n",
    "**Result -**  \n",
    "The epidemic was prevented.  \n",
    "#### e)\n",
    "**Minimum number of vaccines necessary to prevent a network-wide epidemic -**   \n",
    "Around 1300 vacciness are sufficient to prevent the epidemic.   \n",
    "\n",
    "#### f)\n",
    "**Do the results of the simulation agree with your conclusions in (3d) -**  \n",
    "The simulation plot shows that the epidemic is contained, which is consistent with the result in 3d."
   ]
  },
  {
   "cell_type": "code",
   "execution_count": 27,
   "metadata": {},
   "outputs": [
    {
     "name": "stdout",
     "output_type": "stream",
     "text": [
      "\n",
      "Running Virus Propagation Simulation \n",
      "\n",
      "PARAMETERS : β =  0.2 \tδ =  0.7 \tk =  200 \tImmunization Policy =  d \tt = 100\n",
      "\n",
      "Maximum Eigen Value of Graph :  10.746847588034766\n",
      "\n",
      "Effective Virus Strength :  3.070527882295648 \n",
      "\n",
      "Simulation  0\n",
      "Simulation  1\n",
      "Simulation  2\n",
      "Simulation  3\n",
      "Simulation  4\n",
      "Simulation  5\n",
      "Simulation  6\n",
      "Simulation  7\n",
      "Simulation  8\n",
      "Simulation  9\n",
      "\n",
      "Average Number of Nodes Initially Infected :  551.0\n",
      "\n",
      "Average Number of Nodes Finally Infected :  50.6\n",
      "\n",
      "RESULT : Virus epidemic was prevented\n"
     ]
    },
    {
     "data": {
      "image/png": "[encoded data removed]",
      "text/plain": [
       "<Figure size 504x360 with 1 Axes>"
      ]
     },
     "metadata": {
      "needs_background": "light"
     },
     "output_type": "display_data"
    },
    {
     "name": "stdout",
     "output_type": "stream",
     "text": [
      "\n",
      "----------------------------------------------------\n",
      "\n",
      "Running Vaccine Analysis for Policy  D\n",
      "k:  500 \tstrength :  2.8429622354681365\n",
      "k:  600 \tstrength :  2.615381444392771\n",
      "k:  700 \tstrength :  2.461739929377762\n",
      "k:  800 \tstrength :  -2.3043320466146016\n",
      "k:  900 \tstrength :  2.0996984166213317\n",
      "k:  1000 \tstrength :  1.874880963773415\n",
      "k:  1100 \tstrength :  -1.1091849484861418\n",
      "k:  1200 \tstrength :  0.9003281020073383\n",
      "k:  1300 \tstrength :  -0.7559289460184543\n",
      "k:  1400 \tstrength :  0.7559289460184541\n",
      "k:  1500 \tstrength :  0.6388765649999406\n",
      "k:  1600 \tstrength :  -0.638876564999941\n",
      "k:  1700 \tstrength :  -0.63887656499994\n",
      "k:  1800 \tstrength :  0.6388765649999404\n",
      "k:  1900 \tstrength :  0.6388765649999396\n"
     ]
    },
    {
     "data": {
      "image/png": "[encoded data removed]",
      "text/plain": [
       "<Figure size 504x360 with 1 Axes>"
      ]
     },
     "metadata": {
      "needs_background": "light"
     },
     "output_type": "display_data"
    }
   ],
   "source": [
    "g = create_graph()\n",
    "s1d = run(g, beta1, delta1, 'd')\n",
    "k_vals = range(500, 2000, 100)\n",
    "strengths = vaccine_analysis(g, beta1, delta1, k_vals, 'd')"
   ]
  }
 ],
 "metadata": {
  "kernelspec": {
   "display_name": "Python 2",
   "language": "python",
   "name": "python2"
  },
  "language_info": {
   "codemirror_mode": {
    "name": "ipython",
    "version": 2
   },
   "file_extension": ".py",
   "mimetype": "text/x-python",
   "name": "python",
   "nbconvert_exporter": "python",
   "pygments_lexer": "ipython2",
   "version": "2.7.16"
  }
 },
 "nbformat": 4,
 "nbformat_minor": 2
}
